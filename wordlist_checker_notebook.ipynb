{
 "cells": [
  {
   "cell_type": "code",
   "execution_count": 9,
   "metadata": {},
   "outputs": [],
   "source": [
    "import hivepass_py\n",
    "from collections import Counter"
   ]
  },
  {
   "cell_type": "code",
   "execution_count": 9,
   "metadata": {},
   "outputs": [],
   "source": [
    "wordlist_file = \"rockyou_1.txt\"\n",
    "wordlist = []\n",
    "wordlist_times = []\n"
   ]
  },
  {
   "cell_type": "code",
   "execution_count": 10,
   "metadata": {},
   "outputs": [],
   "source": [
    "with open(wordlist_file, encoding=\"utf8\") as file:\n",
    "    for line in file:\n",
    "        wordlist.append(line.rstrip())"
   ]
  },
  {
   "cell_type": "code",
   "execution_count": 4,
   "metadata": {},
   "outputs": [],
   "source": [
    "for i in range(1, len(wordlist)):\n",
    "    time = hivepass_py.getPasswordTime(str(wordlist[i]))\n",
    "    wordlist_times.append(time)"
   ]
  },
  {
   "cell_type": "code",
   "execution_count": 7,
   "metadata": {},
   "outputs": [
    {
     "name": "stdout",
     "output_type": "stream",
     "text": [
      "Counter({'Not Supported': 5927400, 'Instantly': 2843034, '3 secs': 397334, '1 min': 254334, '32 mins': 179404, '14 hours': 112739, '2 weeks': 76976, '1 year': 52098, '27 years': 31605, '2 mins': 20596, '713 years': 12441, '2 secs': 11790, '2 hours': 11150, '1 sec': 10610, '5 days': 8223, '18k years': 7841, '28 secs': 7790, '24 mins': 4758, '10 months': 3618, '21 hours': 3373, '53 years': 2593, '1 month': 1992, '5 mins': 1893, '5 secs': 1742, '3k years': 1698, '6 years': 1303, '202k years': 1279, '6 hours': 1256, '12m years': 1005, '779m years': 986, '332 years': 788, '4 secs': 749, '3 years': 642, '52 secs': 641, '17k years': 562, '226 years': 514, '898k years': 400, '15k years': 370, '9 mins': 330, '1m years': 321, '46m years': 307, '1 hour': 296, '56bn years': 289, '77m years': 280, '48bn years': 195, '380bn years': 100, '2bn years': 91, '6 days': 78, '2tn years': 77, '26tn years': 66, '126bn years': 42})\n"
     ]
    }
   ],
   "source": [
    "c_1 = Counter(wordlist_times)\n",
    "print(c_1)"
   ]
  }
 ],
 "metadata": {
  "kernelspec": {
   "display_name": "base",
   "language": "python",
   "name": "python3"
  },
  "language_info": {
   "codemirror_mode": {
    "name": "ipython",
    "version": 3
   },
   "file_extension": ".py",
   "mimetype": "text/x-python",
   "name": "python",
   "nbconvert_exporter": "python",
   "pygments_lexer": "ipython3",
   "version": "3.10.9"
  },
  "orig_nbformat": 4
 },
 "nbformat": 4,
 "nbformat_minor": 2
}
