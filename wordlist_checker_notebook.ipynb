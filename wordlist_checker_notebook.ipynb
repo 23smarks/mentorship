{
 "cells": [
  {
   "cell_type": "code",
   "execution_count": 9,
   "metadata": {},
   "outputs": [],
   "source": [
    "import hivepass_py\n",
    "from collections import Counter"
   ]
  },
  {
   "cell_type": "code",
   "execution_count": 7,
   "metadata": {},
   "outputs": [],
   "source": [
    "wordlist_file = \"\\rockyou_1.txt\"\n",
    "wordlist = []\n",
    "wordlist_times = []\n"
   ]
  },
  {
   "cell_type": "code",
   "execution_count": 8,
   "metadata": {},
   "outputs": [
    {
     "ename": "FileNotFoundError",
     "evalue": "[Errno 2] No such file or directory: 'C:\\\\Users\\\\Sutton\\\\OneDrive - Maggie L Walker High School\\\\UNIV Mentorship\\\\School Password\\\\rockyou_1.txt'",
     "output_type": "error",
     "traceback": [
      "\u001b[1;31m---------------------------------------------------------------------------\u001b[0m",
      "\u001b[1;31mFileNotFoundError\u001b[0m                         Traceback (most recent call last)",
      "Cell \u001b[1;32mIn[8], line 1\u001b[0m\n\u001b[1;32m----> 1\u001b[0m \u001b[39mwith\u001b[39;00m \u001b[39mopen\u001b[39;49m(\u001b[39mr\u001b[39;49m\u001b[39m\"\u001b[39;49m\u001b[39mC:\u001b[39;49m\u001b[39m\\\u001b[39;49m\u001b[39mUsers\u001b[39;49m\u001b[39m\\\u001b[39;49m\u001b[39mSutton\u001b[39;49m\u001b[39m\\\u001b[39;49m\u001b[39mOneDrive - Maggie L Walker High School\u001b[39;49m\u001b[39m\\\u001b[39;49m\u001b[39mUNIV Mentorship\u001b[39;49m\u001b[39m\\\u001b[39;49m\u001b[39mSchool Password\u001b[39;49m\u001b[39m\"\u001b[39;49m \u001b[39m+\u001b[39;49m wordlist_file, encoding\u001b[39m=\u001b[39;49m\u001b[39m\"\u001b[39;49m\u001b[39mutf8\u001b[39;49m\u001b[39m\"\u001b[39;49m) \u001b[39mas\u001b[39;00m file:\n\u001b[0;32m      2\u001b[0m     \u001b[39mfor\u001b[39;00m line \u001b[39min\u001b[39;00m file:\n\u001b[0;32m      3\u001b[0m         wordlist\u001b[39m.\u001b[39mappend(line\u001b[39m.\u001b[39mrstrip())\n",
      "File \u001b[1;32mc:\\Users\\Sutton\\anaconda3\\lib\\site-packages\\IPython\\core\\interactiveshell.py:282\u001b[0m, in \u001b[0;36m_modified_open\u001b[1;34m(file, *args, **kwargs)\u001b[0m\n\u001b[0;32m    275\u001b[0m \u001b[39mif\u001b[39;00m file \u001b[39min\u001b[39;00m {\u001b[39m0\u001b[39m, \u001b[39m1\u001b[39m, \u001b[39m2\u001b[39m}:\n\u001b[0;32m    276\u001b[0m     \u001b[39mraise\u001b[39;00m \u001b[39mValueError\u001b[39;00m(\n\u001b[0;32m    277\u001b[0m         \u001b[39mf\u001b[39m\u001b[39m\"\u001b[39m\u001b[39mIPython won\u001b[39m\u001b[39m'\u001b[39m\u001b[39mt let you open fd=\u001b[39m\u001b[39m{\u001b[39;00mfile\u001b[39m}\u001b[39;00m\u001b[39m by default \u001b[39m\u001b[39m\"\u001b[39m\n\u001b[0;32m    278\u001b[0m         \u001b[39m\"\u001b[39m\u001b[39mas it is likely to crash IPython. If you know what you are doing, \u001b[39m\u001b[39m\"\u001b[39m\n\u001b[0;32m    279\u001b[0m         \u001b[39m\"\u001b[39m\u001b[39myou can use builtins\u001b[39m\u001b[39m'\u001b[39m\u001b[39m open.\u001b[39m\u001b[39m\"\u001b[39m\n\u001b[0;32m    280\u001b[0m     )\n\u001b[1;32m--> 282\u001b[0m \u001b[39mreturn\u001b[39;00m io_open(file, \u001b[39m*\u001b[39margs, \u001b[39m*\u001b[39m\u001b[39m*\u001b[39mkwargs)\n",
      "\u001b[1;31mFileNotFoundError\u001b[0m: [Errno 2] No such file or directory: 'C:\\\\Users\\\\Sutton\\\\OneDrive - Maggie L Walker High School\\\\UNIV Mentorship\\\\School Password\\\\rockyou_1.txt'"
     ]
    }
   ],
   "source": [
    "with open(r\"C:\\Users\\Sutton\\OneDrive - Maggie L Walker High School\\UNIV Mentorship\\School Password\" + wordlist_file, encoding=\"utf8\") as file:\n",
    "    for line in file:\n",
    "        wordlist.append(line.rstrip())"
   ]
  },
  {
   "cell_type": "code",
   "execution_count": 4,
   "metadata": {},
   "outputs": [],
   "source": [
    "for i in range(1, len(wordlist)):\n",
    "    time = hivepass_py.getPasswordTime(str(wordlist[i]))\n",
    "    wordlist_times.append(time)"
   ]
  },
  {
   "cell_type": "code",
   "execution_count": 7,
   "metadata": {},
   "outputs": [
    {
     "name": "stdout",
     "output_type": "stream",
     "text": [
      "Counter({'Not Supported': 5927400, 'Instantly': 2843034, '3 secs': 397334, '1 min': 254334, '32 mins': 179404, '14 hours': 112739, '2 weeks': 76976, '1 year': 52098, '27 years': 31605, '2 mins': 20596, '713 years': 12441, '2 secs': 11790, '2 hours': 11150, '1 sec': 10610, '5 days': 8223, '18k years': 7841, '28 secs': 7790, '24 mins': 4758, '10 months': 3618, '21 hours': 3373, '53 years': 2593, '1 month': 1992, '5 mins': 1893, '5 secs': 1742, '3k years': 1698, '6 years': 1303, '202k years': 1279, '6 hours': 1256, '12m years': 1005, '779m years': 986, '332 years': 788, '4 secs': 749, '3 years': 642, '52 secs': 641, '17k years': 562, '226 years': 514, '898k years': 400, '15k years': 370, '9 mins': 330, '1m years': 321, '46m years': 307, '1 hour': 296, '56bn years': 289, '77m years': 280, '48bn years': 195, '380bn years': 100, '2bn years': 91, '6 days': 78, '2tn years': 77, '26tn years': 66, '126bn years': 42})\n"
     ]
    }
   ],
   "source": [
    "c_1 = Counter(wordlist_times)\n",
    "print(c_1)"
   ]
  }
 ],
 "metadata": {
  "kernelspec": {
   "display_name": "base",
   "language": "python",
   "name": "python3"
  },
  "language_info": {
   "codemirror_mode": {
    "name": "ipython",
    "version": 3
   },
   "file_extension": ".py",
   "mimetype": "text/x-python",
   "name": "python",
   "nbconvert_exporter": "python",
   "pygments_lexer": "ipython3",
   "version": "3.10.9"
  },
  "orig_nbformat": 4
 },
 "nbformat": 4,
 "nbformat_minor": 2
}
